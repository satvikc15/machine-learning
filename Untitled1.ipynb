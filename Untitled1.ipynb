{
 "cells": [
  {
   "cell_type": "code",
   "execution_count": 1,
   "id": "73ba7eb0-61f6-4440-a17e-68973a3ccee5",
   "metadata": {},
   "outputs": [
    {
     "name": "stdout",
     "output_type": "stream",
     "text": [
      "Best Tour: [np.int64(2), np.int64(0), np.int64(1), np.int64(3)]\n",
      "Best Distance: 80\n"
     ]
    }
   ],
   "source": [
    "import random\n",
    "import numpy as np\n",
    "\n",
    "def tsp_distance(tour, distances):\n",
    "    \"\"\"Calculates the total distance of a given tour.\"\"\"\n",
    "    total_distance = 0\n",
    "    for i in range(len(tour) - 1):\n",
    "        total_distance += distances[tour[i]][tour[i+1]]\n",
    "    total_distance += distances[tour[-1]][tour[0]]\n",
    "    return total_distance\n",
    "\n",
    "def generate_population(size, cities):\n",
    "    \"\"\"Generates an initial population of random tours.\"\"\"\n",
    "    population = []\n",
    "    for _ in range(size):\n",
    "        population.append(list(np.random.permutation(cities)))\n",
    "    return population\n",
    "\n",
    "def selection(population, distances):\n",
    "    \"\"\"Selects the top half of the population based on fitness.\"\"\"\n",
    "    fitness_scores = [1 / tsp_distance(tour, distances) for tour in population]\n",
    "    sorted_indices = np.argsort(fitness_scores)[::-1]\n",
    "    return [population[i] for i in sorted_indices[:len(population) // 2]]\n",
    "\n",
    "def crossover(parent1, parent2):\n",
    "    \"\"\"Performs order crossover to create two offspring.\"\"\"\n",
    "    crossover_point = random.randint(1, len(parent1) - 2)\n",
    "    offspring1 = parent1[:crossover_point] + [city for city in parent2 if city not in parent1[:crossover_point]]\n",
    "    offspring2 = parent2[:crossover_point] + [city for city in parent1 if city not in parent2[:crossover_point]]\n",
    "    return offspring1, offspring2\n",
    "\n",
    "def mutation(tour, mutation_rate):\n",
    "    \"\"\"Performs swap mutation with a given probability.\"\"\"\n",
    "    if random.random() < mutation_rate:\n",
    "        i, j = random.sample(range(len(tour)), 2)\n",
    "        tour[i], tour[j] = tour[j], tour[i]\n",
    "    return tour\n",
    "\n",
    "def genetic_algorithm(distances, population_size=100, generations=100, mutation_rate=0.01):\n",
    "    \"\"\"Solves the TSP problem using a genetic algorithm.\"\"\"\n",
    "    cities = list(range(len(distances)))\n",
    "    population = generate_population(population_size, cities)\n",
    "\n",
    "    for generation in range(generations):\n",
    "        population = selection(population, distances)\n",
    "        offspring = []\n",
    "        while len(offspring) < population_size:\n",
    "            parent1, parent2 = random.sample(population, 2)\n",
    "            offspring1, offspring2 = crossover(parent1, parent2)\n",
    "            offspring1 = mutation(offspring1, mutation_rate)\n",
    "            offspring2 = mutation(offspring2, mutation_rate)\n",
    "            offspring.extend([offspring1, offspring2])\n",
    "        population = offspring\n",
    "\n",
    "    best_tour = min(population, key=lambda tour: tsp_distance(tour, distances))\n",
    "    best_distance = tsp_distance(best_tour, distances)\n",
    "    return best_tour, best_distance\n",
    "\n",
    "# Example usage\n",
    "distances = [[0, 10, 15, 20],\n",
    "             [10, 0, 35, 25],\n",
    "             [15, 35, 0, 30],\n",
    "             [20, 25, 30, 0]]\n",
    "\n",
    "best_tour, best_distance = genetic_algorithm(distances)\n",
    "print(\"Best Tour:\", best_tour)\n",
    "print(\"Best Distance:\", best_distance)"
   ]
  },
  {
   "cell_type": "code",
   "execution_count": null,
   "id": "ddba529c-8b23-46f3-b50f-420db96fa826",
   "metadata": {},
   "outputs": [],
   "source": []
  }
 ],
 "metadata": {
  "kernelspec": {
   "display_name": "Python 3 (ipykernel)",
   "language": "python",
   "name": "python3"
  },
  "language_info": {
   "codemirror_mode": {
    "name": "ipython",
    "version": 3
   },
   "file_extension": ".py",
   "mimetype": "text/x-python",
   "name": "python",
   "nbconvert_exporter": "python",
   "pygments_lexer": "ipython3",
   "version": "3.12.7"
  }
 },
 "nbformat": 4,
 "nbformat_minor": 5
}
